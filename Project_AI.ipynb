{
 "cells": [
  {
   "cell_type": "markdown",
   "id": "4c6153eb",
   "metadata": {},
   "source": [
    "<h1> HandWritten Digit Recognition"
   ]
  },
  {
   "cell_type": "markdown",
   "id": "8cff3cec",
   "metadata": {},
   "source": [
    "<h2> Installing required libraries"
   ]
  },
  {
   "cell_type": "code",
   "execution_count": 163,
   "id": "31761a5f",
   "metadata": {
    "scrolled": true
   },
   "outputs": [
    {
     "name": "stdout",
     "output_type": "stream",
     "text": [
      "Requirement already satisfied: tensorflow in /home/ashishs/anaconda3/lib/python3.9/site-packages (2.8.0)\n",
      "Requirement already satisfied: keras-preprocessing>=1.1.1 in /home/ashishs/anaconda3/lib/python3.9/site-packages (from tensorflow) (1.1.2)\n",
      "Requirement already satisfied: wrapt>=1.11.0 in /home/ashishs/anaconda3/lib/python3.9/site-packages (from tensorflow) (1.12.1)\n",
      "Requirement already satisfied: libclang>=9.0.1 in /home/ashishs/anaconda3/lib/python3.9/site-packages (from tensorflow) (14.0.1)\n",
      "Requirement already satisfied: tensorboard<2.9,>=2.8 in /home/ashishs/anaconda3/lib/python3.9/site-packages (from tensorflow) (2.8.0)\n",
      "Requirement already satisfied: h5py>=2.9.0 in /home/ashishs/anaconda3/lib/python3.9/site-packages (from tensorflow) (3.3.0)\n",
      "Requirement already satisfied: tensorflow-io-gcs-filesystem>=0.23.1 in /home/ashishs/anaconda3/lib/python3.9/site-packages (from tensorflow) (0.25.0)\n",
      "Requirement already satisfied: six>=1.12.0 in /home/ashishs/anaconda3/lib/python3.9/site-packages (from tensorflow) (1.16.0)\n",
      "Requirement already satisfied: absl-py>=0.4.0 in /home/ashishs/anaconda3/lib/python3.9/site-packages (from tensorflow) (1.0.0)\n",
      "Requirement already satisfied: flatbuffers>=1.12 in /home/ashishs/anaconda3/lib/python3.9/site-packages (from tensorflow) (2.0)\n",
      "Requirement already satisfied: numpy>=1.20 in /home/ashishs/anaconda3/lib/python3.9/site-packages (from tensorflow) (1.20.3)\n",
      "Requirement already satisfied: keras<2.9,>=2.8.0rc0 in /home/ashishs/anaconda3/lib/python3.9/site-packages (from tensorflow) (2.8.0)\n",
      "Requirement already satisfied: astunparse>=1.6.0 in /home/ashishs/anaconda3/lib/python3.9/site-packages (from tensorflow) (1.6.3)\n",
      "Requirement already satisfied: tf-estimator-nightly==2.8.0.dev2021122109 in /home/ashishs/anaconda3/lib/python3.9/site-packages (from tensorflow) (2.8.0.dev2021122109)\n",
      "Requirement already satisfied: protobuf>=3.9.2 in /home/ashishs/anaconda3/lib/python3.9/site-packages (from tensorflow) (3.20.1)\n",
      "Requirement already satisfied: google-pasta>=0.1.1 in /home/ashishs/anaconda3/lib/python3.9/site-packages (from tensorflow) (0.2.0)\n",
      "Requirement already satisfied: setuptools in /home/ashishs/anaconda3/lib/python3.9/site-packages (from tensorflow) (58.0.4)\n",
      "Requirement already satisfied: gast>=0.2.1 in /home/ashishs/anaconda3/lib/python3.9/site-packages (from tensorflow) (0.5.3)\n",
      "Requirement already satisfied: termcolor>=1.1.0 in /home/ashishs/anaconda3/lib/python3.9/site-packages (from tensorflow) (1.1.0)\n",
      "Requirement already satisfied: typing-extensions>=3.6.6 in /home/ashishs/anaconda3/lib/python3.9/site-packages (from tensorflow) (3.10.0.2)\n",
      "Requirement already satisfied: opt-einsum>=2.3.2 in /home/ashishs/anaconda3/lib/python3.9/site-packages (from tensorflow) (3.3.0)\n",
      "Requirement already satisfied: grpcio<2.0,>=1.24.3 in /home/ashishs/anaconda3/lib/python3.9/site-packages (from tensorflow) (1.46.0)\n",
      "Requirement already satisfied: wheel<1.0,>=0.23.0 in /home/ashishs/anaconda3/lib/python3.9/site-packages (from astunparse>=1.6.0->tensorflow) (0.37.0)\n",
      "Requirement already satisfied: requests<3,>=2.21.0 in /home/ashishs/anaconda3/lib/python3.9/site-packages (from tensorboard<2.9,>=2.8->tensorflow) (2.26.0)\n",
      "Requirement already satisfied: google-auth-oauthlib<0.5,>=0.4.1 in /home/ashishs/anaconda3/lib/python3.9/site-packages (from tensorboard<2.9,>=2.8->tensorflow) (0.4.6)\n",
      "Requirement already satisfied: google-auth<3,>=1.6.3 in /home/ashishs/anaconda3/lib/python3.9/site-packages (from tensorboard<2.9,>=2.8->tensorflow) (2.6.6)\n",
      "Requirement already satisfied: tensorboard-plugin-wit>=1.6.0 in /home/ashishs/anaconda3/lib/python3.9/site-packages (from tensorboard<2.9,>=2.8->tensorflow) (1.8.1)\n",
      "Requirement already satisfied: werkzeug>=0.11.15 in /home/ashishs/anaconda3/lib/python3.9/site-packages (from tensorboard<2.9,>=2.8->tensorflow) (2.0.2)\n",
      "Requirement already satisfied: tensorboard-data-server<0.7.0,>=0.6.0 in /home/ashishs/anaconda3/lib/python3.9/site-packages (from tensorboard<2.9,>=2.8->tensorflow) (0.6.1)\n",
      "Requirement already satisfied: markdown>=2.6.8 in /home/ashishs/anaconda3/lib/python3.9/site-packages (from tensorboard<2.9,>=2.8->tensorflow) (3.3.6)\n",
      "Requirement already satisfied: pyasn1-modules>=0.2.1 in /home/ashishs/anaconda3/lib/python3.9/site-packages (from google-auth<3,>=1.6.3->tensorboard<2.9,>=2.8->tensorflow) (0.2.8)\n",
      "Requirement already satisfied: rsa<5,>=3.1.4 in /home/ashishs/anaconda3/lib/python3.9/site-packages (from google-auth<3,>=1.6.3->tensorboard<2.9,>=2.8->tensorflow) (4.8)\n",
      "Requirement already satisfied: cachetools<6.0,>=2.0.0 in /home/ashishs/anaconda3/lib/python3.9/site-packages (from google-auth<3,>=1.6.3->tensorboard<2.9,>=2.8->tensorflow) (5.0.0)\n",
      "Requirement already satisfied: requests-oauthlib>=0.7.0 in /home/ashishs/anaconda3/lib/python3.9/site-packages (from google-auth-oauthlib<0.5,>=0.4.1->tensorboard<2.9,>=2.8->tensorflow) (1.3.1)\n",
      "Requirement already satisfied: importlib-metadata>=4.4 in /home/ashishs/anaconda3/lib/python3.9/site-packages (from markdown>=2.6.8->tensorboard<2.9,>=2.8->tensorflow) (4.8.1)\n",
      "Requirement already satisfied: zipp>=0.5 in /home/ashishs/anaconda3/lib/python3.9/site-packages (from importlib-metadata>=4.4->markdown>=2.6.8->tensorboard<2.9,>=2.8->tensorflow) (3.6.0)\n",
      "Requirement already satisfied: pyasn1<0.5.0,>=0.4.6 in /home/ashishs/anaconda3/lib/python3.9/site-packages (from pyasn1-modules>=0.2.1->google-auth<3,>=1.6.3->tensorboard<2.9,>=2.8->tensorflow) (0.4.8)\n",
      "Requirement already satisfied: charset-normalizer~=2.0.0 in /home/ashishs/anaconda3/lib/python3.9/site-packages (from requests<3,>=2.21.0->tensorboard<2.9,>=2.8->tensorflow) (2.0.4)\n",
      "Requirement already satisfied: urllib3<1.27,>=1.21.1 in /home/ashishs/anaconda3/lib/python3.9/site-packages (from requests<3,>=2.21.0->tensorboard<2.9,>=2.8->tensorflow) (1.26.7)\n",
      "Requirement already satisfied: certifi>=2017.4.17 in /home/ashishs/anaconda3/lib/python3.9/site-packages (from requests<3,>=2.21.0->tensorboard<2.9,>=2.8->tensorflow) (2021.10.8)\n",
      "Requirement already satisfied: idna<4,>=2.5 in /home/ashishs/anaconda3/lib/python3.9/site-packages (from requests<3,>=2.21.0->tensorboard<2.9,>=2.8->tensorflow) (3.2)\n",
      "Requirement already satisfied: oauthlib>=3.0.0 in /home/ashishs/anaconda3/lib/python3.9/site-packages (from requests-oauthlib>=0.7.0->google-auth-oauthlib<0.5,>=0.4.1->tensorboard<2.9,>=2.8->tensorflow) (3.2.0)\n",
      "Note: you may need to restart the kernel to use updated packages.\n"
     ]
    }
   ],
   "source": [
    "pip install tensorflow"
   ]
  },
  {
   "cell_type": "code",
   "execution_count": 164,
   "id": "4408914c",
   "metadata": {},
   "outputs": [
    {
     "name": "stdout",
     "output_type": "stream",
     "text": [
      "Requirement already satisfied: numpy in /home/ashishs/anaconda3/lib/python3.9/site-packages (1.20.3)\n",
      "Note: you may need to restart the kernel to use updated packages.\n"
     ]
    }
   ],
   "source": [
    "pip install numpy"
   ]
  },
  {
   "cell_type": "code",
   "execution_count": 165,
   "id": "ac5695ae",
   "metadata": {},
   "outputs": [
    {
     "name": "stdout",
     "output_type": "stream",
     "text": [
      "Requirement already satisfied: opencv-python in /home/ashishs/anaconda3/lib/python3.9/site-packages (4.5.5.64)\n",
      "Requirement already satisfied: numpy>=1.14.5 in /home/ashishs/anaconda3/lib/python3.9/site-packages (from opencv-python) (1.20.3)\n",
      "Note: you may need to restart the kernel to use updated packages.\n"
     ]
    }
   ],
   "source": [
    "pip install opencv-python"
   ]
  },
  {
   "cell_type": "code",
   "execution_count": 166,
   "id": "550f596c",
   "metadata": {},
   "outputs": [],
   "source": [
    "import tensorflow as tf #pip install tensorflow"
   ]
  },
  {
   "cell_type": "markdown",
   "id": "d107baa0",
   "metadata": {},
   "source": [
    "<h2> Loading data set "
   ]
  },
  {
   "cell_type": "code",
   "execution_count": 167,
   "id": "07fbf43b",
   "metadata": {},
   "outputs": [],
   "source": [
    "mnist = tf.keras.datasets.mnist "
   ]
  },
  {
   "cell_type": "code",
   "execution_count": 168,
   "id": "9d9b751f",
   "metadata": {},
   "outputs": [],
   "source": [
    "(x_train, y_train),(x_test, y_test) = mnist.load_data()"
   ]
  },
  {
   "cell_type": "markdown",
   "id": "3bab0071",
   "metadata": {},
   "source": [
    "<h2> Checking size & Images"
   ]
  },
  {
   "cell_type": "code",
   "execution_count": 169,
   "id": "51fb5ab0",
   "metadata": {},
   "outputs": [
    {
     "data": {
      "text/plain": [
       "(60000, 28, 28)"
      ]
     },
     "execution_count": 169,
     "metadata": {},
     "output_type": "execute_result"
    }
   ],
   "source": [
    "x_train.shape"
   ]
  },
  {
   "cell_type": "code",
   "execution_count": 170,
   "id": "1aa7a493",
   "metadata": {
    "scrolled": true
   },
   "outputs": [
    {
     "data": {
      "image/png": "[encoded data removed]",
      "text/plain": [
       "<Figure size 432x288 with 1 Axes>"
      ]
     },
     "metadata": {
      "needs_background": "light"
     },
     "output_type": "display_data"
    },
    {
     "data": {
      "text/plain": [
       "<matplotlib.image.AxesImage at 0x7fbad3ff3610>"
      ]
     },
     "execution_count": 170,
     "metadata": {},
     "output_type": "execute_result"
    },
    {
     "data": {
      "image/png": "[encoded data removed]",
      "text/plain": [
       "<Figure size 432x288 with 1 Axes>"
      ]
     },
     "metadata": {
      "needs_background": "light"
     },
     "output_type": "display_data"
    }
   ],
   "source": [
    "import matplotlib.pyplot as plt\n",
    "plt.imshow(x_train[0]) #just checking the number in the array\n",
    "plt.show()\n",
    "\n",
    "plt.imshow(x_train[0], cmap = plt.cm.binary) #changing the image to binary"
   ]
  },
  {
   "cell_type": "code",
   "execution_count": 171,
   "id": "b2d8bb99",
   "metadata": {
    "scrolled": true
   },
   "outputs": [
    {
     "name": "stdout",
     "output_type": "stream",
     "text": [
      "[[  0   0   0   0   0   0   0   0   0   0   0   0   0   0   0   0   0   0\n",
      "    0   0   0   0   0   0   0   0   0   0]\n",
      " [  0   0   0   0   0   0   0   0   0   0   0   0   0   0   0   0   0   0\n",
      "    0   0   0   0   0   0   0   0   0   0]\n",
      " [  0   0   0   0   0   0   0   0   0   0   0   0   0   0   0   0   0   0\n",
      "    0   0   0   0   0   0   0   0   0   0]\n",
      " [  0   0   0   0   0   0   0   0   0   0   0   0   0   0   0   0   0   0\n",
      "    0   0   0   0   0   0   0   0   0   0]\n",
      " [  0   0   0   0   0   0   0   0   0   0   0   0   0   0   0   0   0   0\n",
      "    0   0   0   0   0   0   0   0   0   0]\n",
      " [  0   0   0   0   0   0   0   0   0   0   0   0   3  18  18  18 126 136\n",
      "  175  26 166 255 247 127   0   0   0   0]\n",
      " [  0   0   0   0   0   0   0   0  30  36  94 154 170 253 253 253 253 253\n",
      "  225 172 253 242 195  64   0   0   0   0]\n",
      " [  0   0   0   0   0   0   0  49 238 253 253 253 253 253 253 253 253 251\n",
      "   93  82  82  56  39   0   0   0   0   0]\n",
      " [  0   0   0   0   0   0   0  18 219 253 253 253 253 253 198 182 247 241\n",
      "    0   0   0   0   0   0   0   0   0   0]\n",
      " [  0   0   0   0   0   0   0   0  80 156 107 253 253 205  11   0  43 154\n",
      "    0   0   0   0   0   0   0   0   0   0]\n",
      " [  0   0   0   0   0   0   0   0   0  14   1 154 253  90   0   0   0   0\n",
      "    0   0   0   0   0   0   0   0   0   0]\n",
      " [  0   0   0   0   0   0   0   0   0   0   0 139 253 190   2   0   0   0\n",
      "    0   0   0   0   0   0   0   0   0   0]\n",
      " [  0   0   0   0   0   0   0   0   0   0   0  11 190 253  70   0   0   0\n",
      "    0   0   0   0   0   0   0   0   0   0]\n",
      " [  0   0   0   0   0   0   0   0   0   0   0   0  35 241 225 160 108   1\n",
      "    0   0   0   0   0   0   0   0   0   0]\n",
      " [  0   0   0   0   0   0   0   0   0   0   0   0   0  81 240 253 253 119\n",
      "   25   0   0   0   0   0   0   0   0   0]\n",
      " [  0   0   0   0   0   0   0   0   0   0   0   0   0   0  45 186 253 253\n",
      "  150  27   0   0   0   0   0   0   0   0]\n",
      " [  0   0   0   0   0   0   0   0   0   0   0   0   0   0   0  16  93 252\n",
      "  253 187   0   0   0   0   0   0   0   0]\n",
      " [  0   0   0   0   0   0   0   0   0   0   0   0   0   0   0   0   0 249\n",
      "  253 249  64   0   0   0   0   0   0   0]\n",
      " [  0   0   0   0   0   0   0   0   0   0   0   0   0   0  46 130 183 253\n",
      "  253 207   2   0   0   0   0   0   0   0]\n",
      " [  0   0   0   0   0   0   0   0   0   0   0   0  39 148 229 253 253 253\n",
      "  250 182   0   0   0   0   0   0   0   0]\n",
      " [  0   0   0   0   0   0   0   0   0   0  24 114 221 253 253 253 253 201\n",
      "   78   0   0   0   0   0   0   0   0   0]\n",
      " [  0   0   0   0   0   0   0   0  23  66 213 253 253 253 253 198  81   2\n",
      "    0   0   0   0   0   0   0   0   0   0]\n",
      " [  0   0   0   0   0   0  18 171 219 253 253 253 253 195  80   9   0   0\n",
      "    0   0   0   0   0   0   0   0   0   0]\n",
      " [  0   0   0   0  55 172 226 253 253 253 253 244 133  11   0   0   0   0\n",
      "    0   0   0   0   0   0   0   0   0   0]\n",
      " [  0   0   0   0 136 253 253 253 212 135 132  16   0   0   0   0   0   0\n",
      "    0   0   0   0   0   0   0   0   0   0]\n",
      " [  0   0   0   0   0   0   0   0   0   0   0   0   0   0   0   0   0   0\n",
      "    0   0   0   0   0   0   0   0   0   0]\n",
      " [  0   0   0   0   0   0   0   0   0   0   0   0   0   0   0   0   0   0\n",
      "    0   0   0   0   0   0   0   0   0   0]\n",
      " [  0   0   0   0   0   0   0   0   0   0   0   0   0   0   0   0   0   0\n",
      "    0   0   0   0   0   0   0   0   0   0]]\n"
     ]
    }
   ],
   "source": [
    "print(x_train[0])#pixel values"
   ]
  },
  {
   "cell_type": "markdown",
   "id": "c6b6d536",
   "metadata": {},
   "source": [
    "<h2> Normalizing (dividing by 255)"
   ]
  },
  {
   "cell_type": "code",
   "execution_count": 172,
   "id": "bb59498f",
   "metadata": {},
   "outputs": [
    {
     "data": {
      "text/plain": [
       "<matplotlib.image.AxesImage at 0x7fbad4ea7bb0>"
      ]
     },
     "execution_count": 172,
     "metadata": {},
     "output_type": "execute_result"
    },
    {
     "data": {
      "image/png": "[encoded data removed]",
      "text/plain": [
       "<Figure size 432x288 with 1 Axes>"
      ]
     },
     "metadata": {
      "needs_background": "light"
     },
     "output_type": "display_data"
    }
   ],
   "source": [
    "x_train = tf.keras.utils.normalize (x_train, axis=1)\n",
    "x_test = tf.keras.utils.normalize(x_test, axis=1)\n",
    "plt.imshow(x_train[0], cmap = plt.cm.binary)"
   ]
  },
  {
   "cell_type": "code",
   "execution_count": 173,
   "id": "53b7e339",
   "metadata": {
    "scrolled": true
   },
   "outputs": [
    {
     "name": "stdout",
     "output_type": "stream",
     "text": [
      "[[0.         0.         0.         0.         0.         0.\n",
      "  0.         0.         0.         0.         0.         0.\n",
      "  0.         0.         0.         0.         0.         0.\n",
      "  0.         0.         0.         0.         0.         0.\n",
      "  0.         0.         0.         0.        ]\n",
      " [0.         0.         0.         0.         0.         0.\n",
      "  0.         0.         0.         0.         0.         0.\n",
      "  0.         0.         0.         0.         0.         0.\n",
      "  0.         0.         0.         0.         0.         0.\n",
      "  0.         0.         0.         0.        ]\n",
      " [0.         0.         0.         0.         0.         0.\n",
      "  0.         0.         0.         0.         0.         0.\n",
      "  0.         0.         0.         0.         0.         0.\n",
      "  0.         0.         0.         0.         0.         0.\n",
      "  0.         0.         0.         0.        ]\n",
      " [0.         0.         0.         0.         0.         0.\n",
      "  0.         0.         0.         0.         0.         0.\n",
      "  0.         0.         0.         0.         0.         0.\n",
      "  0.         0.         0.         0.         0.         0.\n",
      "  0.         0.         0.         0.        ]\n",
      " [0.         0.         0.         0.         0.         0.\n",
      "  0.         0.         0.         0.         0.         0.\n",
      "  0.         0.         0.         0.         0.         0.\n",
      "  0.         0.         0.         0.         0.         0.\n",
      "  0.         0.         0.         0.        ]\n",
      " [0.         0.         0.         0.         0.         0.\n",
      "  0.         0.         0.         0.         0.         0.\n",
      "  0.00393124 0.02332955 0.02620568 0.02625207 0.17420356 0.17566281\n",
      "  0.28629534 0.05664824 0.51877786 0.71632322 0.77892406 0.89301644\n",
      "  0.         0.         0.         0.        ]\n",
      " [0.         0.         0.         0.         0.         0.\n",
      "  0.         0.         0.05780486 0.06524513 0.16128198 0.22713296\n",
      "  0.22277047 0.32790981 0.36833534 0.3689874  0.34978968 0.32678448\n",
      "  0.368094   0.3747499  0.79066747 0.67980478 0.61494005 0.45002403\n",
      "  0.         0.         0.         0.        ]\n",
      " [0.         0.         0.         0.         0.         0.\n",
      "  0.         0.12250613 0.45858525 0.45852825 0.43408872 0.37314701\n",
      "  0.33153488 0.32790981 0.36833534 0.3689874  0.34978968 0.32420121\n",
      "  0.15214552 0.17865984 0.25626376 0.1573102  0.12298801 0.\n",
      "  0.         0.         0.         0.        ]\n",
      " [0.         0.         0.         0.         0.         0.\n",
      "  0.         0.04500225 0.4219755  0.45852825 0.43408872 0.37314701\n",
      "  0.33153488 0.32790981 0.28826244 0.26543758 0.34149427 0.31128482\n",
      "  0.         0.         0.         0.         0.         0.\n",
      "  0.         0.         0.         0.        ]\n",
      " [0.         0.         0.         0.         0.         0.\n",
      "  0.         0.         0.1541463  0.28272888 0.18358693 0.37314701\n",
      "  0.33153488 0.26569767 0.01601458 0.         0.05945042 0.19891229\n",
      "  0.         0.         0.         0.         0.         0.\n",
      "  0.         0.         0.         0.        ]\n",
      " [0.         0.         0.         0.         0.         0.\n",
      "  0.         0.         0.         0.0253731  0.00171577 0.22713296\n",
      "  0.33153488 0.11664776 0.         0.         0.         0.\n",
      "  0.         0.         0.         0.         0.         0.\n",
      "  0.         0.         0.         0.        ]\n",
      " [0.         0.         0.         0.         0.         0.\n",
      "  0.         0.         0.         0.         0.         0.20500962\n",
      "  0.33153488 0.24625638 0.00291174 0.         0.         0.\n",
      "  0.         0.         0.         0.         0.         0.\n",
      "  0.         0.         0.         0.        ]\n",
      " [0.         0.         0.         0.         0.         0.\n",
      "  0.         0.         0.         0.         0.         0.01622378\n",
      "  0.24897876 0.32790981 0.10191096 0.         0.         0.\n",
      "  0.         0.         0.         0.         0.         0.\n",
      "  0.         0.         0.         0.        ]\n",
      " [0.         0.         0.         0.         0.         0.\n",
      "  0.         0.         0.         0.         0.         0.\n",
      "  0.04586451 0.31235677 0.32757096 0.23335172 0.14931733 0.00129164\n",
      "  0.         0.         0.         0.         0.         0.\n",
      "  0.         0.         0.         0.        ]\n",
      " [0.         0.         0.         0.         0.         0.\n",
      "  0.         0.         0.         0.         0.         0.\n",
      "  0.         0.10498298 0.34940902 0.3689874  0.34978968 0.15370495\n",
      "  0.04089933 0.         0.         0.         0.         0.\n",
      "  0.         0.         0.         0.        ]\n",
      " [0.         0.         0.         0.         0.         0.\n",
      "  0.         0.         0.         0.         0.         0.\n",
      "  0.         0.         0.06551419 0.27127137 0.34978968 0.32678448\n",
      "  0.245396   0.05882702 0.         0.         0.         0.\n",
      "  0.         0.         0.         0.        ]\n",
      " [0.         0.         0.         0.         0.         0.\n",
      "  0.         0.         0.         0.         0.         0.\n",
      "  0.         0.         0.         0.02333517 0.12857881 0.32549285\n",
      "  0.41390126 0.40743158 0.         0.         0.         0.\n",
      "  0.         0.         0.         0.        ]\n",
      " [0.         0.         0.         0.         0.         0.\n",
      "  0.         0.         0.         0.         0.         0.\n",
      "  0.         0.         0.         0.         0.         0.32161793\n",
      "  0.41390126 0.54251585 0.20001074 0.         0.         0.\n",
      "  0.         0.         0.         0.        ]\n",
      " [0.         0.         0.         0.         0.         0.\n",
      "  0.         0.         0.         0.         0.         0.\n",
      "  0.         0.         0.06697006 0.18959827 0.25300993 0.32678448\n",
      "  0.41390126 0.45100715 0.00625034 0.         0.         0.\n",
      "  0.         0.         0.         0.        ]\n",
      " [0.         0.         0.         0.         0.         0.\n",
      "  0.         0.         0.         0.         0.         0.\n",
      "  0.05110617 0.19182076 0.33339444 0.3689874  0.34978968 0.32678448\n",
      "  0.40899334 0.39653769 0.         0.         0.         0.\n",
      "  0.         0.         0.         0.        ]\n",
      " [0.         0.         0.         0.         0.         0.\n",
      "  0.         0.         0.         0.         0.04117838 0.16813739\n",
      "  0.28960162 0.32790981 0.36833534 0.3689874  0.34978968 0.25961929\n",
      "  0.12760592 0.         0.         0.         0.         0.\n",
      "  0.         0.         0.         0.        ]\n",
      " [0.         0.         0.         0.         0.         0.\n",
      "  0.         0.         0.04431706 0.11961607 0.36545809 0.37314701\n",
      "  0.33153488 0.32790981 0.36833534 0.28877275 0.111988   0.00258328\n",
      "  0.         0.         0.         0.         0.         0.\n",
      "  0.         0.         0.         0.        ]\n",
      " [0.         0.         0.         0.         0.         0.\n",
      "  0.05298497 0.42752138 0.4219755  0.45852825 0.43408872 0.37314701\n",
      "  0.33153488 0.25273681 0.11646967 0.01312603 0.         0.\n",
      "  0.         0.         0.         0.         0.         0.\n",
      "  0.         0.         0.         0.        ]\n",
      " [0.         0.         0.         0.         0.37491383 0.56222061\n",
      "  0.66525569 0.63253163 0.48748768 0.45852825 0.43408872 0.359873\n",
      "  0.17428513 0.01425695 0.         0.         0.         0.\n",
      "  0.         0.         0.         0.         0.         0.\n",
      "  0.         0.         0.         0.        ]\n",
      " [0.         0.         0.         0.         0.92705966 0.82698729\n",
      "  0.74473314 0.63253163 0.4084877  0.24466922 0.22648107 0.02359823\n",
      "  0.         0.         0.         0.         0.         0.\n",
      "  0.         0.         0.         0.         0.         0.\n",
      "  0.         0.         0.         0.        ]\n",
      " [0.         0.         0.         0.         0.         0.\n",
      "  0.         0.         0.         0.         0.         0.\n",
      "  0.         0.         0.         0.         0.         0.\n",
      "  0.         0.         0.         0.         0.         0.\n",
      "  0.         0.         0.         0.        ]\n",
      " [0.         0.         0.         0.         0.         0.\n",
      "  0.         0.         0.         0.         0.         0.\n",
      "  0.         0.         0.         0.         0.         0.\n",
      "  0.         0.         0.         0.         0.         0.\n",
      "  0.         0.         0.         0.        ]\n",
      " [0.         0.         0.         0.         0.         0.\n",
      "  0.         0.         0.         0.         0.         0.\n",
      "  0.         0.         0.         0.         0.         0.\n",
      "  0.         0.         0.         0.         0.         0.\n",
      "  0.         0.         0.         0.        ]]\n"
     ]
    }
   ],
   "source": [
    "print(x_train[0])"
   ]
  },
  {
   "cell_type": "code",
   "execution_count": 174,
   "id": "f2880633",
   "metadata": {},
   "outputs": [
    {
     "name": "stdout",
     "output_type": "stream",
     "text": [
      "5\n"
     ]
    }
   ],
   "source": [
    "print (y_train[0])"
   ]
  },
  {
   "cell_type": "markdown",
   "id": "cf044e38",
   "metadata": {},
   "source": [
    "<h2> Reshaping the image(adding 1 extra channel)"
   ]
  },
  {
   "cell_type": "code",
   "execution_count": 175,
   "id": "3afdad55",
   "metadata": {},
   "outputs": [
    {
     "name": "stdout",
     "output_type": "stream",
     "text": [
      "Training sample dimension (60000, 28, 28, 1)\n",
      "Testing sample dimenstion (10000, 28, 28, 1)\n"
     ]
    }
   ],
   "source": [
    "import numpy as np\n",
    "IMG_SIZE=28\n",
    "x_trainr=np.array(x_train).reshape(-1, IMG_SIZE, IMG_SIZE, 1)\n",
    "x_testr = np.array(x_test).reshape(-1, IMG_SIZE, IMG_SIZE, 1)\n",
    "print(\"Training sample dimension\", x_trainr.shape)\n",
    "print(\"Testing sample dimenstion\", x_testr.shape)"
   ]
  },
  {
   "cell_type": "markdown",
   "id": "3818e9ec",
   "metadata": {},
   "source": [
    "<h2> Importing and applying model(CNN)"
   ]
  },
  {
   "cell_type": "code",
   "execution_count": 176,
   "id": "eb19bea7",
   "metadata": {},
   "outputs": [],
   "source": [
    "from tensorflow.keras.models import Sequential\n",
    "from tensorflow.keras.layers import Dense, Dropout, Activation, Flatten, Conv2D, MaxPooling2D"
   ]
  },
  {
   "cell_type": "code",
   "execution_count": 177,
   "id": "2911f27f",
   "metadata": {},
   "outputs": [],
   "source": [
    "model = Sequential()\n",
    "\n",
    "model.add(Conv2D(64,(3,3), input_shape = x_trainr.shape[1:]))\n",
    "model.add(Activation(\"relu\"))\n",
    "model.add(MaxPooling2D(pool_size=(2,2)))\n",
    "\n",
    "model.add(Conv2D(64,(3,3)))\n",
    "model.add(Activation(\"relu\"))\n",
    "model.add(MaxPooling2D(pool_size=(2,2)))\n",
    "\n",
    "model.add(Conv2D(64,(3,3)))\n",
    "model.add(Activation(\"relu\"))\n",
    "model.add(MaxPooling2D(pool_size=(2,2)))\n",
    "\n",
    "model.add(Flatten())\n",
    "model.add(Dense(64))\n",
    "model.add(Activation(\"relu\"))\n",
    "\n",
    "model.add(Dense(32))\n",
    "model.add(Activation(\"relu\"))\n",
    "\n",
    "model.add(Dense(10))\n",
    "model.add(Activation('Softmax'))"
   ]
  },
  {
   "cell_type": "code",
   "execution_count": 178,
   "id": "1f6909ce",
   "metadata": {
    "scrolled": true
   },
   "outputs": [
    {
     "name": "stdout",
     "output_type": "stream",
     "text": [
      "Model: \"sequential_4\"\n",
      "_________________________________________________________________\n",
      " Layer (type)                Output Shape              Param #   \n",
      "=================================================================\n",
      " conv2d_12 (Conv2D)          (None, 26, 26, 64)        640       \n",
      "                                                                 \n",
      " activation_24 (Activation)  (None, 26, 26, 64)        0         \n",
      "                                                                 \n",
      " max_pooling2d_12 (MaxPoolin  (None, 13, 13, 64)       0         \n",
      " g2D)                                                            \n",
      "                                                                 \n",
      " conv2d_13 (Conv2D)          (None, 11, 11, 64)        36928     \n",
      "                                                                 \n",
      " activation_25 (Activation)  (None, 11, 11, 64)        0         \n",
      "                                                                 \n",
      " max_pooling2d_13 (MaxPoolin  (None, 5, 5, 64)         0         \n",
      " g2D)                                                            \n",
      "                                                                 \n",
      " conv2d_14 (Conv2D)          (None, 3, 3, 64)          36928     \n",
      "                                                                 \n",
      " activation_26 (Activation)  (None, 3, 3, 64)          0         \n",
      "                                                                 \n",
      " max_pooling2d_14 (MaxPoolin  (None, 1, 1, 64)         0         \n",
      " g2D)                                                            \n",
      "                                                                 \n",
      " flatten_4 (Flatten)         (None, 64)                0         \n",
      "                                                                 \n",
      " dense_12 (Dense)            (None, 64)                4160      \n",
      "                                                                 \n",
      " activation_27 (Activation)  (None, 64)                0         \n",
      "                                                                 \n",
      " dense_13 (Dense)            (None, 32)                2080      \n",
      "                                                                 \n",
      " activation_28 (Activation)  (None, 32)                0         \n",
      "                                                                 \n",
      " dense_14 (Dense)            (None, 10)                330       \n",
      "                                                                 \n",
      " activation_29 (Activation)  (None, 10)                0         \n",
      "                                                                 \n",
      "=================================================================\n",
      "Total params: 81,066\n",
      "Trainable params: 81,066\n",
      "Non-trainable params: 0\n",
      "_________________________________________________________________\n"
     ]
    }
   ],
   "source": [
    "model.summary()"
   ]
  },
  {
   "cell_type": "code",
   "execution_count": 179,
   "id": "72afbc75",
   "metadata": {},
   "outputs": [
    {
     "name": "stdout",
     "output_type": "stream",
     "text": [
      "Total Training samples =  60000\n"
     ]
    }
   ],
   "source": [
    "print(\"Total Training samples = \", len(x_trainr))"
   ]
  },
  {
   "cell_type": "markdown",
   "id": "5c733172",
   "metadata": {},
   "source": [
    "<h2> Compiling the model"
   ]
  },
  {
   "cell_type": "code",
   "execution_count": 180,
   "id": "4232ae1e",
   "metadata": {},
   "outputs": [],
   "source": [
    "model.compile(loss=\"sparse_categorical_crossentropy\", optimizer = \"adam\", metrics=['accuracy'])"
   ]
  },
  {
   "cell_type": "markdown",
   "id": "2b4545cc",
   "metadata": {},
   "source": [
    "<h2> Training the model with 100 epochs"
   ]
  },
  {
   "cell_type": "code",
   "execution_count": 181,
   "id": "72153454",
   "metadata": {},
   "outputs": [
    {
     "name": "stdout",
     "output_type": "stream",
     "text": [
      "Epoch 1/100\n"
     ]
    },
    {
     "name": "stderr",
     "output_type": "stream",
     "text": [
      "2022-05-05 21:41:03.682631: W tensorflow/core/framework/cpu_allocator_impl.cc:82] Allocation of 131712000 exceeds 10% of free system memory.\n"
     ]
    },
    {
     "name": "stdout",
     "output_type": "stream",
     "text": [
      "1313/1313 [==============================] - 20s 15ms/step - loss: 0.3177 - accuracy: 0.8992 - val_loss: 0.1464 - val_accuracy: 0.9546\n",
      "Epoch 2/100\n",
      "1313/1313 [==============================] - 20s 15ms/step - loss: 0.1052 - accuracy: 0.9679 - val_loss: 0.1024 - val_accuracy: 0.9662\n",
      "Epoch 3/100\n",
      "1313/1313 [==============================] - 20s 15ms/step - loss: 0.0719 - accuracy: 0.9781 - val_loss: 0.0716 - val_accuracy: 0.9783\n",
      "Epoch 4/100\n",
      "1313/1313 [==============================] - 20s 16ms/step - loss: 0.0566 - accuracy: 0.9821 - val_loss: 0.0655 - val_accuracy: 0.9803\n",
      "Epoch 5/100\n",
      "1313/1313 [==============================] - 20s 15ms/step - loss: 0.0457 - accuracy: 0.9860 - val_loss: 0.0751 - val_accuracy: 0.9782\n",
      "Epoch 6/100\n",
      "1313/1313 [==============================] - 21s 16ms/step - loss: 0.0373 - accuracy: 0.9885 - val_loss: 0.0671 - val_accuracy: 0.9810\n",
      "Epoch 7/100\n",
      "1313/1313 [==============================] - 21s 16ms/step - loss: 0.0317 - accuracy: 0.9901 - val_loss: 0.0607 - val_accuracy: 0.9836\n",
      "Epoch 8/100\n",
      "1313/1313 [==============================] - 21s 16ms/step - loss: 0.0263 - accuracy: 0.9916 - val_loss: 0.0618 - val_accuracy: 0.9833\n",
      "Epoch 9/100\n",
      "1313/1313 [==============================] - 21s 16ms/step - loss: 0.0209 - accuracy: 0.9934 - val_loss: 0.0631 - val_accuracy: 0.9842\n",
      "Epoch 10/100\n",
      "1313/1313 [==============================] - 21s 16ms/step - loss: 0.0196 - accuracy: 0.9937 - val_loss: 0.0580 - val_accuracy: 0.9849\n",
      "Epoch 11/100\n",
      "1313/1313 [==============================] - 21s 16ms/step - loss: 0.0158 - accuracy: 0.9949 - val_loss: 0.0589 - val_accuracy: 0.9857\n",
      "Epoch 12/100\n",
      "1313/1313 [==============================] - 21s 16ms/step - loss: 0.0162 - accuracy: 0.9944 - val_loss: 0.0582 - val_accuracy: 0.9859\n",
      "Epoch 13/100\n",
      "1313/1313 [==============================] - 21s 16ms/step - loss: 0.0132 - accuracy: 0.9958 - val_loss: 0.0619 - val_accuracy: 0.9839\n",
      "Epoch 14/100\n",
      "1313/1313 [==============================] - 21s 16ms/step - loss: 0.0115 - accuracy: 0.9965 - val_loss: 0.0694 - val_accuracy: 0.9844\n",
      "Epoch 15/100\n",
      "1313/1313 [==============================] - 21s 16ms/step - loss: 0.0109 - accuracy: 0.9963 - val_loss: 0.0714 - val_accuracy: 0.9841\n",
      "Epoch 16/100\n",
      "1313/1313 [==============================] - 21s 16ms/step - loss: 0.0122 - accuracy: 0.9959 - val_loss: 0.0670 - val_accuracy: 0.9857\n",
      "Epoch 17/100\n",
      "1313/1313 [==============================] - 21s 16ms/step - loss: 0.0087 - accuracy: 0.9970 - val_loss: 0.0690 - val_accuracy: 0.9862\n",
      "Epoch 18/100\n",
      "1313/1313 [==============================] - 21s 16ms/step - loss: 0.0111 - accuracy: 0.9961 - val_loss: 0.0693 - val_accuracy: 0.9851\n",
      "Epoch 19/100\n",
      "1313/1313 [==============================] - 21s 16ms/step - loss: 0.0107 - accuracy: 0.9969 - val_loss: 0.0717 - val_accuracy: 0.9856\n",
      "Epoch 20/100\n",
      "1313/1313 [==============================] - 21s 16ms/step - loss: 0.0065 - accuracy: 0.9977 - val_loss: 0.0742 - val_accuracy: 0.9854\n",
      "Epoch 21/100\n",
      "1313/1313 [==============================] - 21s 16ms/step - loss: 0.0076 - accuracy: 0.9976 - val_loss: 0.1082 - val_accuracy: 0.9798\n",
      "Epoch 22/100\n",
      "1313/1313 [==============================] - 21s 16ms/step - loss: 0.0085 - accuracy: 0.9975 - val_loss: 0.0805 - val_accuracy: 0.9857\n",
      "Epoch 23/100\n",
      "1313/1313 [==============================] - 21s 16ms/step - loss: 0.0076 - accuracy: 0.9973 - val_loss: 0.0880 - val_accuracy: 0.9846\n",
      "Epoch 24/100\n",
      "1313/1313 [==============================] - 21s 16ms/step - loss: 0.0073 - accuracy: 0.9978 - val_loss: 0.0902 - val_accuracy: 0.9831\n",
      "Epoch 25/100\n",
      "1313/1313 [==============================] - 21s 16ms/step - loss: 0.0081 - accuracy: 0.9977 - val_loss: 0.0782 - val_accuracy: 0.9857\n",
      "Epoch 26/100\n",
      "1313/1313 [==============================] - 21s 16ms/step - loss: 0.0055 - accuracy: 0.9984 - val_loss: 0.0793 - val_accuracy: 0.9872\n",
      "Epoch 27/100\n",
      "1313/1313 [==============================] - 21s 16ms/step - loss: 0.0077 - accuracy: 0.9973 - val_loss: 0.0944 - val_accuracy: 0.9837\n",
      "Epoch 28/100\n",
      "1313/1313 [==============================] - 21s 16ms/step - loss: 0.0063 - accuracy: 0.9980 - val_loss: 0.0810 - val_accuracy: 0.9857\n",
      "Epoch 29/100\n",
      "1313/1313 [==============================] - 21s 16ms/step - loss: 0.0073 - accuracy: 0.9978 - val_loss: 0.0938 - val_accuracy: 0.9833\n",
      "Epoch 30/100\n",
      "1313/1313 [==============================] - 21s 16ms/step - loss: 0.0063 - accuracy: 0.9981 - val_loss: 0.0848 - val_accuracy: 0.9858\n",
      "Epoch 31/100\n",
      "1313/1313 [==============================] - 21s 16ms/step - loss: 0.0057 - accuracy: 0.9983 - val_loss: 0.0942 - val_accuracy: 0.9821\n",
      "Epoch 32/100\n",
      "1313/1313 [==============================] - 21s 16ms/step - loss: 0.0054 - accuracy: 0.9983 - val_loss: 0.1065 - val_accuracy: 0.9843\n",
      "Epoch 33/100\n",
      "1313/1313 [==============================] - 21s 16ms/step - loss: 0.0058 - accuracy: 0.9983 - val_loss: 0.0826 - val_accuracy: 0.9863\n",
      "Epoch 34/100\n",
      "1313/1313 [==============================] - 21s 16ms/step - loss: 0.0052 - accuracy: 0.9985 - val_loss: 0.1187 - val_accuracy: 0.9829\n",
      "Epoch 35/100\n",
      "1313/1313 [==============================] - 21s 16ms/step - loss: 0.0066 - accuracy: 0.9980 - val_loss: 0.0823 - val_accuracy: 0.9861\n",
      "Epoch 36/100\n",
      "1313/1313 [==============================] - 21s 16ms/step - loss: 0.0056 - accuracy: 0.9986 - val_loss: 0.1121 - val_accuracy: 0.9840\n",
      "Epoch 37/100\n",
      "1313/1313 [==============================] - 21s 16ms/step - loss: 0.0054 - accuracy: 0.9985 - val_loss: 0.0993 - val_accuracy: 0.9852\n",
      "Epoch 38/100\n",
      "1313/1313 [==============================] - 21s 16ms/step - loss: 0.0038 - accuracy: 0.9991 - val_loss: 0.1085 - val_accuracy: 0.9854\n",
      "Epoch 39/100\n",
      "1313/1313 [==============================] - 22s 16ms/step - loss: 0.0060 - accuracy: 0.9984 - val_loss: 0.1014 - val_accuracy: 0.9843\n",
      "Epoch 40/100\n",
      "1313/1313 [==============================] - 21s 16ms/step - loss: 0.0031 - accuracy: 0.9991 - val_loss: 0.0955 - val_accuracy: 0.9868\n",
      "Epoch 41/100\n",
      "1313/1313 [==============================] - 21s 16ms/step - loss: 0.0088 - accuracy: 0.9978 - val_loss: 0.0993 - val_accuracy: 0.9850\n",
      "Epoch 42/100\n",
      "1313/1313 [==============================] - 21s 16ms/step - loss: 0.0051 - accuracy: 0.9986 - val_loss: 0.0929 - val_accuracy: 0.9855\n",
      "Epoch 43/100\n",
      "1313/1313 [==============================] - 21s 16ms/step - loss: 0.0051 - accuracy: 0.9986 - val_loss: 0.1023 - val_accuracy: 0.9861\n",
      "Epoch 44/100\n",
      "1313/1313 [==============================] - 21s 16ms/step - loss: 0.0053 - accuracy: 0.9986 - val_loss: 0.0946 - val_accuracy: 0.9855\n",
      "Epoch 45/100\n",
      "1313/1313 [==============================] - 21s 16ms/step - loss: 0.0043 - accuracy: 0.9989 - val_loss: 0.0983 - val_accuracy: 0.9866\n",
      "Epoch 46/100\n",
      "1313/1313 [==============================] - 21s 16ms/step - loss: 0.0013 - accuracy: 0.9996 - val_loss: 0.1314 - val_accuracy: 0.9844\n",
      "Epoch 47/100\n",
      "1313/1313 [==============================] - 21s 16ms/step - loss: 0.0076 - accuracy: 0.9980 - val_loss: 0.1132 - val_accuracy: 0.9854\n",
      "Epoch 48/100\n",
      "1313/1313 [==============================] - 21s 16ms/step - loss: 0.0033 - accuracy: 0.9991 - val_loss: 0.1226 - val_accuracy: 0.9844\n",
      "Epoch 49/100\n",
      "1313/1313 [==============================] - 21s 16ms/step - loss: 0.0067 - accuracy: 0.9984 - val_loss: 0.1144 - val_accuracy: 0.9834\n",
      "Epoch 50/100\n",
      "1313/1313 [==============================] - 21s 16ms/step - loss: 0.0057 - accuracy: 0.9984 - val_loss: 0.1002 - val_accuracy: 0.9856\n",
      "Epoch 51/100\n",
      "1313/1313 [==============================] - 21s 16ms/step - loss: 0.0040 - accuracy: 0.9988 - val_loss: 0.1135 - val_accuracy: 0.9848\n",
      "Epoch 52/100\n",
      "1313/1313 [==============================] - 21s 16ms/step - loss: 0.0050 - accuracy: 0.9987 - val_loss: 0.1008 - val_accuracy: 0.9856\n",
      "Epoch 53/100\n",
      "1313/1313 [==============================] - 21s 16ms/step - loss: 0.0010 - accuracy: 0.9996 - val_loss: 0.1237 - val_accuracy: 0.9850\n",
      "Epoch 54/100\n",
      "1313/1313 [==============================] - 21s 16ms/step - loss: 0.0064 - accuracy: 0.9983 - val_loss: 0.1112 - val_accuracy: 0.9853\n",
      "Epoch 55/100\n",
      "1313/1313 [==============================] - 21s 16ms/step - loss: 0.0032 - accuracy: 0.9990 - val_loss: 0.1089 - val_accuracy: 0.9864\n",
      "Epoch 56/100\n",
      "1313/1313 [==============================] - 21s 16ms/step - loss: 0.0018 - accuracy: 0.9995 - val_loss: 0.1055 - val_accuracy: 0.9867\n",
      "Epoch 57/100\n",
      "1313/1313 [==============================] - 21s 16ms/step - loss: 0.0049 - accuracy: 0.9990 - val_loss: 0.1291 - val_accuracy: 0.9839\n",
      "Epoch 58/100\n",
      "1313/1313 [==============================] - 21s 16ms/step - loss: 0.0039 - accuracy: 0.9988 - val_loss: 0.0899 - val_accuracy: 0.9878\n",
      "Epoch 59/100\n",
      "1313/1313 [==============================] - 21s 16ms/step - loss: 0.0044 - accuracy: 0.9989 - val_loss: 0.1328 - val_accuracy: 0.9812\n",
      "Epoch 60/100\n",
      "1313/1313 [==============================] - 21s 16ms/step - loss: 0.0032 - accuracy: 0.9990 - val_loss: 0.1111 - val_accuracy: 0.9861\n",
      "Epoch 61/100\n",
      "1313/1313 [==============================] - 21s 16ms/step - loss: 0.0069 - accuracy: 0.9984 - val_loss: 0.1035 - val_accuracy: 0.9853\n",
      "Epoch 62/100\n",
      "1313/1313 [==============================] - 21s 16ms/step - loss: 0.0036 - accuracy: 0.9989 - val_loss: 0.1046 - val_accuracy: 0.9851\n",
      "Epoch 63/100\n",
      "1313/1313 [==============================] - 21s 16ms/step - loss: 0.0039 - accuracy: 0.9990 - val_loss: 0.1473 - val_accuracy: 0.9836\n",
      "Epoch 64/100\n",
      "1313/1313 [==============================] - 21s 16ms/step - loss: 0.0047 - accuracy: 0.9989 - val_loss: 0.1089 - val_accuracy: 0.9851\n",
      "Epoch 65/100\n",
      "1313/1313 [==============================] - 21s 16ms/step - loss: 0.0043 - accuracy: 0.9986 - val_loss: 0.1250 - val_accuracy: 0.9844\n",
      "Epoch 66/100\n",
      "1313/1313 [==============================] - 21s 16ms/step - loss: 0.0038 - accuracy: 0.9990 - val_loss: 0.1202 - val_accuracy: 0.9857\n",
      "Epoch 67/100\n",
      "1313/1313 [==============================] - 21s 16ms/step - loss: 9.7269e-04 - accuracy: 0.9997 - val_loss: 0.1139 - val_accuracy: 0.9877\n",
      "Epoch 68/100\n",
      "1313/1313 [==============================] - 21s 16ms/step - loss: 0.0051 - accuracy: 0.9991 - val_loss: 0.1309 - val_accuracy: 0.9830\n",
      "Epoch 69/100\n",
      "1313/1313 [==============================] - 21s 16ms/step - loss: 0.0068 - accuracy: 0.9985 - val_loss: 0.0984 - val_accuracy: 0.9871\n",
      "Epoch 70/100\n",
      "1313/1313 [==============================] - 21s 16ms/step - loss: 0.0015 - accuracy: 0.9995 - val_loss: 0.1488 - val_accuracy: 0.9839\n",
      "Epoch 71/100\n",
      "1313/1313 [==============================] - 21s 16ms/step - loss: 0.0044 - accuracy: 0.9988 - val_loss: 0.0997 - val_accuracy: 0.9874\n",
      "Epoch 72/100\n",
      "1313/1313 [==============================] - 21s 16ms/step - loss: 0.0032 - accuracy: 0.9992 - val_loss: 0.1400 - val_accuracy: 0.9840\n",
      "Epoch 73/100\n",
      "1313/1313 [==============================] - 21s 16ms/step - loss: 0.0030 - accuracy: 0.9992 - val_loss: 0.1148 - val_accuracy: 0.9864\n",
      "Epoch 74/100\n",
      "1313/1313 [==============================] - 24s 18ms/step - loss: 0.0053 - accuracy: 0.9989 - val_loss: 0.1091 - val_accuracy: 0.9867\n",
      "Epoch 75/100\n",
      "1313/1313 [==============================] - 21s 16ms/step - loss: 0.0028 - accuracy: 0.9993 - val_loss: 0.1175 - val_accuracy: 0.9857\n",
      "Epoch 76/100\n",
      "1313/1313 [==============================] - 21s 16ms/step - loss: 0.0026 - accuracy: 0.9994 - val_loss: 0.1186 - val_accuracy: 0.9863\n",
      "Epoch 77/100\n",
      "1313/1313 [==============================] - 23s 18ms/step - loss: 0.0039 - accuracy: 0.9991 - val_loss: 0.1142 - val_accuracy: 0.9868\n",
      "Epoch 78/100\n",
      "1313/1313 [==============================] - 21s 16ms/step - loss: 0.0018 - accuracy: 0.9996 - val_loss: 0.1271 - val_accuracy: 0.9866\n",
      "Epoch 79/100\n",
      "1313/1313 [==============================] - 22s 17ms/step - loss: 0.0037 - accuracy: 0.9991 - val_loss: 0.1259 - val_accuracy: 0.9859\n",
      "Epoch 80/100\n",
      "1313/1313 [==============================] - 22s 17ms/step - loss: 0.0026 - accuracy: 0.9992 - val_loss: 0.1124 - val_accuracy: 0.9856\n",
      "Epoch 81/100\n",
      "1313/1313 [==============================] - 23s 17ms/step - loss: 0.0055 - accuracy: 0.9990 - val_loss: 0.1226 - val_accuracy: 0.9849\n",
      "Epoch 82/100\n",
      "1313/1313 [==============================] - 25s 19ms/step - loss: 0.0016 - accuracy: 0.9995 - val_loss: 0.1419 - val_accuracy: 0.9851\n",
      "Epoch 83/100\n",
      "1313/1313 [==============================] - 24s 18ms/step - loss: 0.0042 - accuracy: 0.9990 - val_loss: 0.1345 - val_accuracy: 0.9866\n",
      "Epoch 84/100\n",
      "1313/1313 [==============================] - 22s 17ms/step - loss: 0.0025 - accuracy: 0.9993 - val_loss: 0.1386 - val_accuracy: 0.9870\n",
      "Epoch 85/100\n",
      "1313/1313 [==============================] - 21s 16ms/step - loss: 0.0021 - accuracy: 0.9994 - val_loss: 0.1403 - val_accuracy: 0.9847\n",
      "Epoch 86/100\n",
      "1313/1313 [==============================] - 21s 16ms/step - loss: 0.0064 - accuracy: 0.9988 - val_loss: 0.1317 - val_accuracy: 0.9846\n",
      "Epoch 87/100\n",
      "1313/1313 [==============================] - 21s 16ms/step - loss: 0.0040 - accuracy: 0.9991 - val_loss: 0.1209 - val_accuracy: 0.9843\n",
      "Epoch 88/100\n",
      "1313/1313 [==============================] - 21s 16ms/step - loss: 0.0038 - accuracy: 0.9990 - val_loss: 0.1307 - val_accuracy: 0.9858\n",
      "Epoch 89/100\n",
      "1313/1313 [==============================] - 21s 16ms/step - loss: 0.0023 - accuracy: 0.9995 - val_loss: 0.1406 - val_accuracy: 0.9862\n",
      "Epoch 90/100\n",
      "1313/1313 [==============================] - 22s 17ms/step - loss: 0.0022 - accuracy: 0.9993 - val_loss: 0.2110 - val_accuracy: 0.9815\n",
      "Epoch 91/100\n",
      "1313/1313 [==============================] - 21s 16ms/step - loss: 0.0059 - accuracy: 0.9987 - val_loss: 0.1425 - val_accuracy: 0.9853\n",
      "Epoch 92/100\n",
      "1313/1313 [==============================] - 22s 17ms/step - loss: 0.0032 - accuracy: 0.9992 - val_loss: 0.1439 - val_accuracy: 0.9854\n",
      "Epoch 93/100\n",
      "1313/1313 [==============================] - 22s 17ms/step - loss: 0.0047 - accuracy: 0.9989 - val_loss: 0.1306 - val_accuracy: 0.9866\n",
      "Epoch 94/100\n",
      "1313/1313 [==============================] - 21s 16ms/step - loss: 0.0012 - accuracy: 0.9997 - val_loss: 0.1561 - val_accuracy: 0.9858\n",
      "Epoch 95/100\n",
      "1313/1313 [==============================] - 21s 16ms/step - loss: 0.0024 - accuracy: 0.9996 - val_loss: 0.1556 - val_accuracy: 0.9860\n",
      "Epoch 96/100\n",
      "1313/1313 [==============================] - 21s 16ms/step - loss: 0.0021 - accuracy: 0.9995 - val_loss: 0.1729 - val_accuracy: 0.9863\n",
      "Epoch 97/100\n",
      "1313/1313 [==============================] - 21s 16ms/step - loss: 0.0069 - accuracy: 0.9989 - val_loss: 0.1360 - val_accuracy: 0.9857\n",
      "Epoch 98/100\n",
      "1313/1313 [==============================] - 21s 16ms/step - loss: 0.0021 - accuracy: 0.9996 - val_loss: 0.1461 - val_accuracy: 0.9857\n",
      "Epoch 99/100\n",
      "1313/1313 [==============================] - 21s 16ms/step - loss: 0.0040 - accuracy: 0.9991 - val_loss: 0.1457 - val_accuracy: 0.9839\n",
      "Epoch 100/100\n",
      "1313/1313 [==============================] - 21s 16ms/step - loss: 0.0044 - accuracy: 0.9991 - val_loss: 0.1200 - val_accuracy: 0.9879\n"
     ]
    }
   ],
   "source": [
    "history=model.fit(x_trainr, y_train, epochs=100, validation_split = 0.3)"
   ]
  },
  {
   "cell_type": "code",
   "execution_count": 199,
   "id": "703a8e2f",
   "metadata": {},
   "outputs": [
    {
     "name": "stdout",
     "output_type": "stream",
     "text": [
      "Training sample dimension (60000, 28, 28, 1)\n",
      "Testing sample dimenstion (10000, 28, 28, 1)\n"
     ]
    }
   ],
   "source": [
    "mnist = tf.keras.datasets.mnist \n",
    "(x_train, y_train),(x_test, y_test) = mnist.load_data()\n",
    "IMG_SIZE=28\n",
    "x_trainr=np.array(x_train).reshape(-1, IMG_SIZE, IMG_SIZE, 1)\n",
    "x_testr = np.array(x_test).reshape(-1, IMG_SIZE, IMG_SIZE, 1)\n",
    "print(\"Training sample dimension\", x_trainr.shape)\n",
    "print(\"Testing sample dimenstion\", x_testr.shape)"
   ]
  },
  {
   "cell_type": "markdown",
   "id": "135d4a2e",
   "metadata": {},
   "source": [
    "<h2> Evaluating the accuracy"
   ]
  },
  {
   "cell_type": "code",
   "execution_count": 200,
   "id": "865f52ed",
   "metadata": {
    "scrolled": true
   },
   "outputs": [
    {
     "name": "stdout",
     "output_type": "stream",
     "text": [
      "1875/1875 [==============================] - 7s 4ms/step - loss: 859.8018 - accuracy: 0.8335\n",
      "Train Loss on 60,000 train samples 859.8018188476562\n",
      "Validation accuracy on 60,000 train samples 0.833466649055481\n",
      "313/313 [==============================] - 1s 4ms/step - loss: 812.7838 - accuracy: 0.8432\n",
      "Test Loss on 10,000 test samples 812.7837524414062\n",
      "Validation accuracy on 10,000 test samples 0.8432000279426575\n"
     ]
    }
   ],
   "source": [
    "train_loss, train_acc = model.evaluate(x_train, y_train)\n",
    "print(\"Train Loss on 60,000 train samples\", train_loss)\n",
    "print(\"Validation accuracy on 60,000 train samples\", train_acc)\n",
    "\n",
    "test_loss, test_acc = model.evaluate(x_testr, y_test)\n",
    "print(\"Test Loss on 10,000 test samples\", test_loss)\n",
    "print(\"Validation accuracy on 10,000 test samples\", test_acc)"
   ]
  },
  {
   "cell_type": "code",
   "execution_count": 201,
   "id": "aafc9619",
   "metadata": {},
   "outputs": [
    {
     "data": {
      "image/png": "[encoded data removed]",
      "text/plain": [
       "<Figure size 432x288 with 1 Axes>"
      ]
     },
     "metadata": {
      "needs_background": "light"
     },
     "output_type": "display_data"
    }
   ],
   "source": [
    "plt.plot(history.history['accuracy'])\n",
    "plt.plot(history.history['val_accuracy'])\n",
    "plt.title('model accuracy')\n",
    "plt.ylabel('accuracy')\n",
    "plt.xlabel('epoch')\n",
    "plt.legend(['train', 'test'], loc='upper left')\n",
    "plt.show()"
   ]
  },
  {
   "cell_type": "code",
   "execution_count": 202,
   "id": "1599edb9",
   "metadata": {},
   "outputs": [
    {
     "data": {
      "image/png": "[encoded data removed]",
      "text/plain": [
       "<Figure size 432x288 with 1 Axes>"
      ]
     },
     "metadata": {
      "needs_background": "light"
     },
     "output_type": "display_data"
    }
   ],
   "source": [
    "#summarize history for loss\n",
    "plt.plot(history.history['loss'])\n",
    "plt.plot(history.history['val_loss'])\n",
    "plt.title('model loss')\n",
    "plt.ylabel('loss')\n",
    "plt.xlabel('epoch')\n",
    "plt.legend(['train', 'test'], loc='upper left')\n",
    "plt.show()"
   ]
  },
  {
   "cell_type": "code",
   "execution_count": 203,
   "id": "184d345c",
   "metadata": {},
   "outputs": [],
   "source": [
    "predictions = model.predict([x_testr])"
   ]
  },
  {
   "cell_type": "code",
   "execution_count": 204,
   "id": "ae34a172",
   "metadata": {
    "scrolled": true
   },
   "outputs": [
    {
     "name": "stdout",
     "output_type": "stream",
     "text": [
      "[[0. 0. 0. ... 1. 0. 0.]\n",
      " [0. 0. 1. ... 0. 0. 0.]\n",
      " [0. 0. 0. ... 0. 0. 0.]\n",
      " ...\n",
      " [0. 0. 0. ... 0. 0. 0.]\n",
      " [0. 0. 0. ... 0. 0. 0.]\n",
      " [0. 0. 0. ... 0. 0. 0.]]\n"
     ]
    }
   ],
   "source": [
    "print(predictions)"
   ]
  },
  {
   "cell_type": "code",
   "execution_count": 205,
   "id": "2510f56c",
   "metadata": {},
   "outputs": [
    {
     "name": "stdout",
     "output_type": "stream",
     "text": [
      "4\n"
     ]
    },
    {
     "data": {
      "text/plain": [
       "<matplotlib.image.AxesImage at 0x7fbadedfbe80>"
      ]
     },
     "execution_count": 205,
     "metadata": {},
     "output_type": "execute_result"
    },
    {
     "data": {
      "image/png": "[encoded data removed]",
      "text/plain": [
       "<Figure size 432x288 with 1 Axes>"
      ]
     },
     "metadata": {
      "needs_background": "light"
     },
     "output_type": "display_data"
    }
   ],
   "source": [
    "print(np.argmax(predictions[4]))\n",
    "plt.imshow(x_test[4])"
   ]
  },
  {
   "cell_type": "code",
   "execution_count": 206,
   "id": "2cc5d14e",
   "metadata": {},
   "outputs": [
    {
     "name": "stdout",
     "output_type": "stream",
     "text": [
      "8\n"
     ]
    },
    {
     "data": {
      "text/plain": [
       "<matplotlib.image.AxesImage at 0x7fbadedc2070>"
      ]
     },
     "execution_count": 206,
     "metadata": {},
     "output_type": "execute_result"
    },
    {
     "data": {
      "image/png": "[encoded data removed]",
      "text/plain": [
       "<Figure size 432x288 with 1 Axes>"
      ]
     },
     "metadata": {
      "needs_background": "light"
     },
     "output_type": "display_data"
    }
   ],
   "source": [
    "print(np.argmax(predictions[132]))\n",
    "plt.imshow(x_test[132])"
   ]
  },
  {
   "cell_type": "code",
   "execution_count": 207,
   "id": "1ae6ed3a",
   "metadata": {},
   "outputs": [],
   "source": [
    "import cv2"
   ]
  },
  {
   "cell_type": "markdown",
   "id": "e00560c0",
   "metadata": {},
   "source": [
    "<h2> Now checking the predictions on our own images"
   ]
  },
  {
   "cell_type": "code",
   "execution_count": 208,
   "id": "e75261c4",
   "metadata": {},
   "outputs": [
    {
     "name": "stdout",
     "output_type": "stream",
     "text": [
      "Prediction is: 5\n"
     ]
    },
    {
     "data": {
      "image/png": "[encoded data removed]",
      "text/plain": [
       "<Figure size 432x288 with 1 Axes>"
      ]
     },
     "metadata": {
      "needs_background": "light"
     },
     "output_type": "display_data"
    }
   ],
   "source": [
    "img = cv2.imread('05.png')\n",
    "plt.imshow(img)\n",
    "\n",
    "#img.shape\n",
    "gray = cv2.cvtColor(img, cv2.COLOR_BGR2GRAY)#changing from color to gray\n",
    "#gray.shape\n",
    "resized = cv2.resize(gray, (28,28), interpolation = cv2.INTER_AREA)#changing the size to 28x28\n",
    "#resized.shape\n",
    "newimg = tf.keras.utils.normalize(resized, axis = 1)#normalizing\n",
    "newimg = np.array(newimg).reshape(-1, IMG_SIZE, IMG_SIZE,1)#adding channel\n",
    "#newimg.shape\n",
    "predictions = model.predict(newimg)#predicting\n",
    "\n",
    "print(\"Prediction is:\",np.argmax(predictions))"
   ]
  },
  {
   "cell_type": "code",
   "execution_count": 209,
   "id": "3a8cbab5",
   "metadata": {},
   "outputs": [
    {
     "name": "stdout",
     "output_type": "stream",
     "text": [
      "Prediction is: 3\n"
     ]
    },
    {
     "data": {
      "image/png": "[encoded data removed]",
      "text/plain": [
       "<Figure size 432x288 with 1 Axes>"
      ]
     },
     "metadata": {
      "needs_background": "light"
     },
     "output_type": "display_data"
    }
   ],
   "source": [
    "img = cv2.imread('3.png')\n",
    "plt.imshow(img)\n",
    "\n",
    "#img.shape\n",
    "gray = cv2.cvtColor(img, cv2.COLOR_BGR2GRAY)\n",
    "#gray.shape\n",
    "resized = cv2.resize(gray, (28,28), interpolation = cv2.INTER_AREA)\n",
    "#resized.shape\n",
    "newimg = tf.keras.utils.normalize(resized, axis = 1)\n",
    "newimg = np.array(newimg).reshape(-1, IMG_SIZE, IMG_SIZE,1)\n",
    "#newimg.shape\n",
    "predictions = model.predict(newimg)\n",
    "\n",
    "print(\"Prediction is:\",np.argmax(predictions))"
   ]
  },
  {
   "cell_type": "code",
   "execution_count": 210,
   "id": "b5e7d0db",
   "metadata": {},
   "outputs": [
    {
     "name": "stdout",
     "output_type": "stream",
     "text": [
      "Prediction is: 4\n"
     ]
    },
    {
     "data": {
      "image/png": "[encoded data removed]",
      "text/plain": [
       "<Figure size 432x288 with 1 Axes>"
      ]
     },
     "metadata": {
      "needs_background": "light"
     },
     "output_type": "display_data"
    }
   ],
   "source": [
    "img = cv2.imread('4.png')\n",
    "plt.imshow(img)\n",
    "\n",
    "#img.shape\n",
    "gray = cv2.cvtColor(img, cv2.COLOR_BGR2GRAY)\n",
    "#gray.shape\n",
    "resized = cv2.resize(gray, (28,28), interpolation = cv2.INTER_AREA)\n",
    "#resized.shape\n",
    "newimg = tf.keras.utils.normalize(resized, axis = 1)\n",
    "newimg = np.array(newimg).reshape(-1, IMG_SIZE, IMG_SIZE,1)\n",
    "#newimg.shape\n",
    "predictions = model.predict(newimg)\n",
    "\n",
    "print(\"Prediction is:\",np.argmax(predictions))"
   ]
  },
  {
   "cell_type": "code",
   "execution_count": 211,
   "id": "89d2cbc3",
   "metadata": {},
   "outputs": [
    {
     "name": "stdout",
     "output_type": "stream",
     "text": [
      "Prediction is: 2\n"
     ]
    },
    {
     "data": {
      "image/png": "[encoded data removed]",
      "text/plain": [
       "<Figure size 432x288 with 1 Axes>"
      ]
     },
     "metadata": {
      "needs_background": "light"
     },
     "output_type": "display_data"
    }
   ],
   "source": [
    "img = cv2.imread('2.png')\n",
    "plt.imshow(img)\n",
    "\n",
    "#img.shape\n",
    "gray = cv2.cvtColor(img, cv2.COLOR_BGR2GRAY)\n",
    "#gray.shape\n",
    "resized = cv2.resize(gray, (28,28), interpolation = cv2.INTER_AREA)\n",
    "#resized.shape\n",
    "newimg = tf.keras.utils.normalize(resized, axis = 1)\n",
    "newimg = np.array(newimg).reshape(-1, IMG_SIZE, IMG_SIZE,1)\n",
    "#newimg.shape\n",
    "predictions = model.predict(newimg)\n",
    "\n",
    "print(\"Prediction is:\",np.argmax(predictions))"
   ]
  },
  {
   "cell_type": "code",
   "execution_count": 212,
   "id": "6392714e",
   "metadata": {},
   "outputs": [
    {
     "name": "stdout",
     "output_type": "stream",
     "text": [
      "Prediction is: 7\n"
     ]
    },
    {
     "data": {
      "image/png": "[encoded data removed]",
      "text/plain": [
       "<Figure size 432x288 with 1 Axes>"
      ]
     },
     "metadata": {
      "needs_background": "light"
     },
     "output_type": "display_data"
    }
   ],
   "source": [
    "img = cv2.imread('7.png')\n",
    "plt.imshow(img)\n",
    "\n",
    "#img.shape\n",
    "gray = cv2.cvtColor(img, cv2.COLOR_BGR2GRAY)\n",
    "#gray.shape\n",
    "resized = cv2.resize(gray, (28,28), interpolation = cv2.INTER_AREA)\n",
    "#resized.shape\n",
    "newimg = tf.keras.utils.normalize(resized, axis = 1)\n",
    "newimg = np.array(newimg).reshape(-1, IMG_SIZE, IMG_SIZE,1)\n",
    "#newimg.shape\n",
    "predictions = model.predict(newimg)\n",
    "\n",
    "print(\"Prediction is:\",np.argmax(predictions))"
   ]
  },
  {
   "cell_type": "code",
   "execution_count": 213,
   "id": "0f89de77",
   "metadata": {
    "scrolled": true
   },
   "outputs": [
    {
     "name": "stdout",
     "output_type": "stream",
     "text": [
      "Prediction is: 5\n"
     ]
    },
    {
     "data": {
      "image/png": "[encoded data removed]",
      "text/plain": [
       "<Figure size 432x288 with 1 Axes>"
      ]
     },
     "metadata": {
      "needs_background": "light"
     },
     "output_type": "display_data"
    }
   ],
   "source": [
    "img = cv2.imread('15.png')\n",
    "plt.imshow(img)\n",
    "\n",
    "#img.shape\n",
    "gray = cv2.cvtColor(img, cv2.COLOR_BGR2GRAY)\n",
    "#gray.shape\n",
    "resized = cv2.resize(gray, (28,28), interpolation = cv2.INTER_AREA)\n",
    "#resized.shape\n",
    "newimg = tf.keras.utils.normalize(resized, axis = 1)\n",
    "newimg = np.array(newimg).reshape(-1, IMG_SIZE, IMG_SIZE,1)\n",
    "#newimg.shape\n",
    "predictions = model.predict(newimg)\n",
    "\n",
    "print(\"Prediction is:\",np.argmax(predictions))"
   ]
  },
  {
   "cell_type": "code",
   "execution_count": 214,
   "id": "36605ba2",
   "metadata": {},
   "outputs": [
    {
     "name": "stdout",
     "output_type": "stream",
     "text": [
      "Prediction is: 6\n"
     ]
    },
    {
     "data": {
      "image/png": "[encoded data removed]",
      "text/plain": [
       "<Figure size 432x288 with 1 Axes>"
      ]
     },
     "metadata": {
      "needs_background": "light"
     },
     "output_type": "display_data"
    }
   ],
   "source": [
    "img = cv2.imread('6.png')\n",
    "plt.imshow(img)\n",
    "\n",
    "#img.shape\n",
    "gray = cv2.cvtColor(img, cv2.COLOR_BGR2GRAY)\n",
    "#gray.shape\n",
    "resized = cv2.resize(gray, (28,28), interpolation = cv2.INTER_AREA)\n",
    "#resized.shape\n",
    "newimg = tf.keras.utils.normalize(resized, axis = 1)\n",
    "newimg = np.array(newimg).reshape(-1, IMG_SIZE, IMG_SIZE,1)\n",
    "#newimg.shape\n",
    "predictions = model.predict(newimg)\n",
    "\n",
    "print(\"Prediction is:\",np.argmax(predictions))"
   ]
  },
  {
   "cell_type": "code",
   "execution_count": null,
   "id": "fd65344e",
   "metadata": {},
   "outputs": [],
   "source": []
  }
 ],
 "metadata": {
  "celltoolbar": "Raw Cell Format",
  "kernelspec": {
   "display_name": "Python 3 (ipykernel)",
   "language": "python",
   "name": "python3"
  },
  "language_info": {
   "codemirror_mode": {
    "name": "ipython",
    "version": 3
   },
   "file_extension": ".py",
   "mimetype": "text/x-python",
   "name": "python",
   "nbconvert_exporter": "python",
   "pygments_lexer": "ipython3",
   "version": "3.9.7"
  }
 },
 "nbformat": 4,
 "nbformat_minor": 5
}
